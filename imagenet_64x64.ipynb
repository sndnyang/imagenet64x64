{
 "cells": [
  {
   "cell_type": "code",
   "execution_count": null,
   "metadata": {
    "ExecuteTime": {
     "end_time": "2019-08-11T03:22:39.218880Z",
     "start_time": "2019-08-11T03:22:39.199957Z"
    }
   },
   "outputs": [],
   "source": [
    "import os\n",
    "import pickle\n",
    "import imageio\n",
    "import matplotlib.pyplot as plt\n",
    "import numpy as np\n",
    "\n",
    "def load_validation_data(data_folder, mean_image, img_size=32):\n",
    "    test_file = os.path.join(data_folder, 'val_data')\n",
    "\n",
    "    d = unpickle(test_file)\n",
    "    x = d['data']\n",
    "    y = d['labels']\n",
    "    x = x / np.float32(255)\n",
    "\n",
    "    # Labels are indexed from 1, shift it so that indexes start at 0\n",
    "    y = np.array([i-1 for i in y])\n",
    "\n",
    "    # Remove mean (computed from training data) from images\n",
    "    x -= mean_image\n",
    "\n",
    "    img_size2 = img_size * img_size\n",
    "\n",
    "    x = np.dstack((x[:, :img_size2], x[:, img_size2:2*img_size2], x[:, 2*img_size2:]))\n",
    "    x = x.reshape((x.shape[0], img_size, img_size, 3)).transpose(0, 3, 1, 2)\n",
    "\n",
    "    return dict(\n",
    "        X_test=x,\n",
    "        Y_test=y.astype('int64'))\n",
    "\n",
    "\n",
    "def load_data_batch(data_folder, idx, img_size=64):\n",
    "    data_file = os.path.join(data_folder, 'train_data_batch_')\n",
    "\n",
    "    d = unpickle(data_file + str(idx))\n",
    "    x = d['data']\n",
    "    y = d['labels']\n",
    "    mean_image = d['mean']\n",
    "\n",
    "    x = x / np.float32(255)\n",
    "    mean_image = mean_image / np.float32(255)\n",
    "\n",
    "    # Labels are indexed from 1, shift it so that indexes start at 0\n",
    "    y = [i-1 for i in y]\n",
    "    data_size = x.shape[0]\n",
    "\n",
    "    x -= mean_image\n",
    "\n",
    "    img_size2 = img_size * img_size\n",
    "\n",
    "    x = np.dstack((x[:, :img_size2], x[:, img_size2:2*img_size2], x[:, 2*img_size2:]))\n",
    "    x = x.reshape((x.shape[0], img_size, img_size, 3)).transpose(0, 3, 1, 2)\n",
    "\n",
    "    # create mirrored images\n",
    "    X_train = x[0:data_size, :, :, :]\n",
    "    Y_train = y[0:data_size]\n",
    "    X_train_flip = X_train[:, :, :, ::-1]\n",
    "    Y_train_flip = Y_train\n",
    "    X_train = np.concatenate((X_train, X_train_flip), axis=0)\n",
    "    Y_train = np.concatenate((Y_train, Y_train_flip), axis=0)\n",
    "\n",
    "    return dict(\n",
    "        X_train=X_train,\n",
    "        Y_train=Y_train.astype('int64'),\n",
    "        mean=mean_image)"
   ]
  },
  {
   "cell_type": "code",
   "execution_count": null,
   "metadata": {
    "ExecuteTime": {
     "end_time": "2019-08-11T01:09:15.023023Z",
     "start_time": "2019-08-11T01:09:15.020193Z"
    }
   },
   "outputs": [],
   "source": [
    "def unpickle(file):\n",
    "    with open(file, 'rb') as fo:\n",
    "        dict = pickle.load(fo)\n",
    "    return dict"
   ]
  },
  {
   "cell_type": "code",
   "execution_count": null,
   "metadata": {
    "ExecuteTime": {
     "end_time": "2019-08-11T01:40:55.279333Z",
     "start_time": "2019-08-11T01:40:55.273732Z"
    }
   },
   "outputs": [],
   "source": [
    "def get_images(f, img_size=32):\n",
    "\n",
    "    d = unpickle(f)\n",
    "    x = d['data']\n",
    "    img_size = 64\n",
    "    img_size2 = 64 * 64\n",
    "    x = np.dstack((x[:, :img_size2], x[:, img_size2:2*img_size2], x[:, 2*img_size2:]))\n",
    "    x = x.reshape((x.shape[0], img_size, img_size, 3))\n",
    "    print(x.shape)\n",
    "    return x, d['labels']\n",
    "    "
   ]
  },
  {
   "cell_type": "code",
   "execution_count": null,
   "metadata": {
    "ExecuteTime": {
     "end_time": "2019-08-11T03:21:10.176937Z",
     "start_time": "2019-08-11T03:21:10.123343Z"
    }
   },
   "outputs": [],
   "source": [
    "for i in range(1000):\n",
    "    # I don't know the original name of directories in ImageNet.\n",
    "    # I think 0,1,2...100 is enough\n",
    "    os.mkdir('imagenet64/val/%05d' % (i+1))\n",
    "    os.mkdir('imagenet64/train/%05d' % (i+1))"
   ]
  },
  {
   "cell_type": "code",
   "execution_count": 65,
   "metadata": {
    "ExecuteTime": {
     "end_time": "2019-08-11T03:23:43.714296Z",
     "start_time": "2019-08-11T03:22:43.449168Z"
    }
   },
   "outputs": [
    {
     "name": "stdout",
     "output_type": "stream",
     "text": [
      "(50000, 64, 64, 3)\n"
     ]
    }
   ],
   "source": [
    "# load validation batch data and decompress and save\n",
    "data_folder = 'dataset/imagenet64'\n",
    "num_classes = 1000\n",
    "test_file = os.path.join(data_folder, 'val_data')\n",
    "val_data, labels = get_images(test_file, 64)\n",
    "k = 1\n",
    "for i, e in enumerate(val_data):\n",
    "    imageio.imwrite('imagenet64/val/%05d/%08d.png' % (labels[i], i), e)"
   ]
  },
  {
   "cell_type": "code",
   "execution_count": 60,
   "metadata": {
    "ExecuteTime": {
     "end_time": "2019-08-11T03:09:24.455561Z",
     "start_time": "2019-08-11T02:43:25.484619Z"
    },
    "scrolled": false
   },
   "outputs": [
    {
     "name": "stdout",
     "output_type": "stream",
     "text": [
      "(128116, 64, 64, 3)\n",
      "1\n",
      "[572, 958, 785]\n",
      "(128116, 64, 64, 3)\n",
      "2\n",
      "[464, 917, 257]\n",
      "(128116, 64, 64, 3)\n",
      "3\n",
      "[806, 535, 306]\n",
      "(128116, 64, 64, 3)\n",
      "4\n",
      "[291, 886, 421]\n",
      "(128116, 64, 64, 3)\n",
      "5\n",
      "[37, 319, 292]\n",
      "(128116, 64, 64, 3)\n",
      "6\n",
      "[29, 432, 482]\n",
      "(128116, 64, 64, 3)\n",
      "7\n",
      "[439, 941, 735]\n",
      "(128116, 64, 64, 3)\n",
      "8\n",
      "[758, 258, 381]\n",
      "(128116, 64, 64, 3)\n",
      "9\n",
      "[323, 596, 528]\n",
      "(128123, 64, 64, 3)\n",
      "10\n",
      "[833, 426, 719]\n"
     ]
    }
   ],
   "source": [
    "# load train batch data and save into png file\n",
    "k = 1\n",
    "for i in range(1, 11):\n",
    "    f = os.path.join(data_folder, 'train_data_batch_') + str(i)\n",
    "    train_data, labels = get_images(f, 64)\n",
    "    print(i)\n",
    "    print(labels[:3])\n",
    "    for j, e in enumerate(train_data):\n",
    "        imageio.imwrite('imagenet64/train/%05d/%08d.png' % (labels[j], k), e)\n",
    "        k += 1"
   ]
  },
  {
   "cell_type": "code",
   "execution_count": 28,
   "metadata": {
    "ExecuteTime": {
     "end_time": "2019-08-11T01:20:26.536062Z",
     "start_time": "2019-08-11T01:20:26.342301Z"
    }
   },
   "outputs": [
    {
     "data": {
      "text/plain": [
       "<matplotlib.image.AxesImage at 0x7f64966b82b0>"
      ]
     },
     "execution_count": 28,
     "metadata": {},
     "output_type": "execute_result"
    },
    {
     "data": {
      "image/png": "[encoded data removed]",
      "text/plain": [
       "<Figure size 432x288 with 1 Axes>"
      ]
     },
     "metadata": {
      "needs_background": "light"
     },
     "output_type": "display_data"
    }
   ],
   "source": [
    "plt.imshow(x[20])"
   ]
  }
 ],
 "metadata": {
  "kernelspec": {
   "display_name": "Python 3",
   "language": "python",
   "name": "python3"
  },
  "language_info": {
   "codemirror_mode": {
    "name": "ipython",
    "version": 3
   },
   "file_extension": ".py",
   "mimetype": "text/x-python",
   "name": "python",
   "nbconvert_exporter": "python",
   "pygments_lexer": "ipython3",
   "version": "3.6.8"
  },
  "toc": {
   "base_numbering": 1,
   "nav_menu": {},
   "number_sections": true,
   "sideBar": true,
   "skip_h1_title": false,
   "title_cell": "Table of Contents",
   "title_sidebar": "Contents",
   "toc_cell": false,
   "toc_position": {},
   "toc_section_display": true,
   "toc_window_display": false
  },
  "varInspector": {
   "cols": {
    "lenName": 16,
    "lenType": 16,
    "lenVar": 40
   },
   "kernels_config": {
    "python": {
     "delete_cmd_postfix": "",
     "delete_cmd_prefix": "del ",
     "library": "var_list.py",
     "varRefreshCmd": "print(var_dic_list())"
    },
    "r": {
     "delete_cmd_postfix": ") ",
     "delete_cmd_prefix": "rm(",
     "library": "var_list.r",
     "varRefreshCmd": "cat(var_dic_list()) "
    }
   },
   "types_to_exclude": [
    "module",
    "function",
    "builtin_function_or_method",
    "instance",
    "_Feature"
   ],
   "window_display": false
  }
 },
 "nbformat": 4,
 "nbformat_minor": 2
}
